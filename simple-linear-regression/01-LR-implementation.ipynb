{
    "cells": [
        {
            "cell_type": "markdown",
            "id": "034aa0ee",
            "metadata": {
                "language": "python"
            },
            "source": [
                "# Simple Linear Regression using Plain Python\n"
            ]
        },
        {
            "cell_type": "code",
            "execution_count": null,
            "metadata": {
                "language": "python"
            },
            "outputs": [],
            "source": [
                "# Sample data points (X: input features, y: target values)\n",
                "X = [1, 2, 3, 4, 5]\n",
                "y = [2, 4, 6, 8, 10]\n"
            ]
        },
        {
            "cell_type": "code",
            "execution_count": 14,
            "metadata": {
                "language": "python"
            },
            "outputs": [],
            "source": [
                "# Initialize parameters (slope 'm' and intercept 'b')\n",
                "m = 0  # Initial slope / weight / coefficient\n",
                "b = 0  # Initial intercept / bias\n"
            ]
        },
        {
            "cell_type": "code",
            "execution_count": 15,
            "metadata": {
                "language": "python"
            },
            "outputs": [],
            "source": [
                "# Hyperparameters\n",
                "learning_rate = 0.01  # Step size for parameter updates\n",
                "epochs = 2000  # Number of iterations\n",
                "n = len(X)  # Number of data points / observations\n"
            ]
        },
        {
            "cell_type": "code",
            "execution_count": 16,
            "metadata": {
                "language": "python"
            },
            "outputs": [],
            "source": [
                "# Training loop (Gradient Descent)\n",
                "for _ in range(epochs):\n",
                "    # Compute predicted values using current parameters\n",
                "    y_pred = [m * x + b for x in X]\n",
                "\n",
                "    # Loss function\n",
                "    # Compute the error (difference between actual and predicted values)\n",
                "    error = [y_i - y_p for y_i, y_p in zip(y, y_pred)]\n",
                "\n",
                "    # Optimizer\n",
                "    # Compute gradients (derivatives of loss function)\n",
                "    d_m = (-2 / n) * sum(x * e for x, e in zip(X, error))  # Gradient for weight\n",
                "    d_b = (-2 / n) * sum(error)  # Gradient for bias\n",
                "    # Update parameters using gradient descent\n",
                "    m -= learning_rate * d_m\n",
                "    b -= learning_rate * d_b\n"
            ]
        },
        {
            "cell_type": "code",
            "execution_count": 17,
            "metadata": {
                "language": "python"
            },
            "outputs": [
                {
                    "name": "stdout",
                    "output_type": "stream",
                    "text": [
                        "Weight : 1.6100894670565793\n",
                        "Bias : 0.749676995538005\n"
                    ]
                }
            ],
            "source": [
                "# Print the final parameters\n",
                "print(\"Weight :\", m)\n",
                "print(\"Bias :\", b)\n"
            ]
        },
        {
            "cell_type": "code",
            "execution_count": 18,
            "metadata": {
                "language": "python"
            },
            "outputs": [],
            "source": [
                "# Function to make predictions with the trained model\n",
                "def predict(X_values):\n",
                "    return [m * x + b for x in X_values]\n"
            ]
        },
        {
            "cell_type": "code",
            "execution_count": 19,
            "metadata": {
                "language": "python"
            },
            "outputs": [
                {
                    "name": "stdout",
                    "output_type": "stream",
                    "text": [
                        "Predicted values: [10.41021379787748, 12.02030326493406, 13.63039273199064]\n"
                    ]
                }
            ],
            "source": [
                "# Test the model with new values\n",
                "new_X = [6, 7, 8]\n",
                "predictions = predict(new_X)\n",
                "\n",
                "# Print the predictions\n",
                "print(\"Predicted values:\", predictions)  # Expected output: [12, 14, 16] (approximately)\n"
            ]
        }
    ],
    "metadata": {
        "kernelspec": {
            "display_name": "nutanix_ml_kernel",
            "language": "python",
            "name": "nutanix_ml_kernel"
        },
        "language_info": {
            "codemirror_mode": {
                "name": "ipython",
                "version": 3
            },
            "file_extension": ".py",
            "mimetype": "text/x-python",
            "name": "python",
            "nbconvert_exporter": "python",
            "pygments_lexer": "ipython3",
            "version": "3.12.8"
        }
    },
    "nbformat": 4,
    "nbformat_minor": 5
}
